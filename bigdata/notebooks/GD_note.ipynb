{
 "cells": [
  {
   "cell_type": "code",
   "execution_count": 1,
   "metadata": {},
   "outputs": [],
   "source": [
    "### IMPORT\n",
    "from functools import reduce\n",
    "from pathlib import Path\n",
    "from typing import Counter\n",
    "\n",
    "import xml.etree.ElementTree as ET\n",
    "import re\n",
    "from multiprocessing import Pool\n",
    "\n",
    "from sqlalchemy import null\n",
    "\n",
    "import matplotlib.pyplot as plt\n",
    "from datetime import datetime\n",
    "from pendulum import date"
   ]
  },
  {
   "cell_type": "code",
   "execution_count": 2,
   "metadata": {},
   "outputs": [],
   "source": [
    "def chunckify(iterable, len_of_chunk):\n",
    "    for i in range(0, len(iterable), len_of_chunk):\n",
    "        yield iterable[i:i + len_of_chunk]"
   ]
  },
  {
   "cell_type": "code",
   "execution_count": 253,
   "metadata": {},
   "outputs": [],
   "source": [
    "#Función para combinar listas\n",
    "def fucionar_listas(data1, data2):\n",
    "    data1.extend(data2)\n",
    "    return data1"
   ]
  },
  {
   "cell_type": "markdown",
   "metadata": {},
   "source": [
    "## Top10 preguntas con mayor tiempo de actividad\n",
    "El Top10 se realiza a partir del calculo de la diferencia entre el la fecha de la creación de la pregunta (CreationDate) y la fecha de la ultima actividad de la misma (LastActivityDate)"
   ]
  },
  {
   "cell_type": "code",
   "execution_count": 137,
   "metadata": {},
   "outputs": [],
   "source": [
    "def limpieza_datos(data):\n",
    "    try:\n",
    "        if data.attrib['PostTypeId'] == \"1\":\n",
    "            titulo = data.attrib['Title']\n",
    "            creacion = (data.attrib['CreationDate'])\n",
    "            ultima_actividad = data.attrib['LastActivityDate']\n",
    "            creacion = datetime.strptime(creacion, '%Y-%m-%dT%H:%M:%S.%f')\n",
    "            ultima_actividad = datetime.strptime(ultima_actividad, '%Y-%m-%dT%H:%M:%S.%f')\n",
    "            diferencia = ultima_actividad - creacion\n",
    "            diferencia = int(diferencia.days)\n",
    "            return diferencia, titulo\n",
    "    except:\n",
    "        return"
   ]
  },
  {
   "cell_type": "code",
   "execution_count": 136,
   "metadata": {},
   "outputs": [],
   "source": [
    "def mapper_top(data):\n",
    "    mapper = list(map(limpieza_datos, data))\n",
    "    mapper = list(filter(None, mapper))\n",
    "    return mapper"
   ]
  },
  {
   "cell_type": "code",
   "execution_count": 141,
   "metadata": {},
   "outputs": [],
   "source": [
    "HOME_DIR = Path.home()\n",
    "\n",
    "tree = ET.parse(fr\"{HOME_DIR}/OT301-python/bigdata/datasets/Stack Overflow 11-2010/112010 Meta Stack Overflow/posts.xml\")\n",
    "root = tree.getroot()\n",
    "data_chunks = chunckify(root, 50)\n",
    "mapped_top = list(map(mapper_top, data_chunks))\n",
    "mapped_top = reduce(fucionar_listas, mapped_top)"
   ]
  },
  {
   "cell_type": "code",
   "execution_count": null,
   "metadata": {},
   "outputs": [],
   "source": [
    "#Exportación de los datos obtenidos, duración de cada posteo y titulo del mismo, ordenado de forma decendente\n",
    "top10 = sorted(mapped_top, reverse=True)\n",
    "top10 = top10[0:10]\n",
    "with open((f'{HOME_DIR}/OT301-python/bigdata/outputs/GD_r3_Top10_MayorTiempoDeActividad.csv'), 'w') as f:\n",
    "        f.write(str(top10))                   \n",
    "        f.close()"
   ]
  },
  {
   "cell_type": "code",
   "execution_count": 313,
   "metadata": {},
   "outputs": [
    {
     "name": "stdout",
     "output_type": "stream",
     "text": [
      "Top10 posteos con mayor tiempo de actividad: \n",
      "1) 806 dias activo. Titulo: Why aren't people voting for questions?\n",
      "2) 802 dias activo. Titulo: FAQ for Stack Overflow, Server Fault, and Super User\n",
      "3) 785 dias activo. Titulo: Firefox users - your Stack Overflow \"reputation\" microsummary!\n",
      "4) 779 dias activo. Titulo: How to get attention for your old, unanswered questions\n",
      "5) 774 dias activo. Titulo: What Formula Should Be Used To Determine \"hot\" Questions?\n",
      "6) 770 dias activo. Titulo: Is the Stack Overflow source code available?\n",
      "7) 769 dias activo. Titulo: Do you ever not upvote a question that you answer?\n",
      "8) 763 dias activo. Titulo: What is a \"closed\" question?\n",
      "9) 762 dias activo. Titulo: How do \"badges\" work?\n",
      "10) 760 dias activo. Titulo: Hidden features of Stack Overflow? \n"
     ]
    }
   ],
   "source": [
    "#Vicualización del top 10\n",
    "print(f'''Top10 posteos con mayor tiempo de actividad: \n",
    "1) {top10[0][0]} dias activo. Titulo: {top10[0][1]}\n",
    "2) {top10[1][0]} dias activo. Titulo: {top10[1][1]}\n",
    "3) {top10[2][0]} dias activo. Titulo: {top10[2][1]}\n",
    "4) {top10[3][0]} dias activo. Titulo: {top10[3][1]}\n",
    "5) {top10[4][0]} dias activo. Titulo: {top10[4][1]}\n",
    "6) {top10[5][0]} dias activo. Titulo: {top10[5][1]}\n",
    "7) {top10[6][0]} dias activo. Titulo: {top10[6][1]}\n",
    "8) {top10[7][0]} dias activo. Titulo: {top10[7][1]}\n",
    "9) {top10[8][0]} dias activo. Titulo: {top10[8][1]}\n",
    "10) {top10[9][0]} dias activo. Titulo: {top10[9][1]} ''')"
   ]
  },
  {
   "cell_type": "markdown",
   "metadata": {},
   "source": [
    "### Relación entre cantidad de respuestas de un post y su puntaje.\n",
    "Se realiza a partir del deto de cantidad de respuesta de un post (AnswerCount) y el puntaje (Score), en el caso de que el post no proporcione alguna de las dos informaciones se lo remplaza por 0"
   ]
  },
  {
   "cell_type": "code",
   "execution_count": 299,
   "metadata": {},
   "outputs": [],
   "source": [
    "def limp(data):\n",
    "    try:\n",
    "        if data.attrib['AnswerCount'] and data.attrib['Score']:\n",
    "            answer_count = data.attrib['AnswerCount']\n",
    "            score = data.attrib['Score']\n",
    "        elif data.attrib['AnswerCount']:\n",
    "            answer_count = data.attrib['AnswerCount']\n",
    "            score = 0\n",
    "        elif data.attrib['Score']:\n",
    "            answer_count = 0\n",
    "            score = data.attrib['Score']\n",
    "        return answer_count, score\n",
    "    except:\n",
    "        return"
   ]
  },
  {
   "cell_type": "code",
   "execution_count": 300,
   "metadata": {},
   "outputs": [],
   "source": [
    "def mapper(data):\n",
    "    limpieza = list(map(limp, data))\n",
    "    limpieza = list(filter(None, limpieza))\n",
    "    return limpieza"
   ]
  },
  {
   "cell_type": "code",
   "execution_count": 330,
   "metadata": {},
   "outputs": [],
   "source": [
    "HOME_DIR = Path.home()\n",
    "\n",
    "tree = ET.parse(fr\"{HOME_DIR}/OT301-python/bigdata/datasets/Stack Overflow 11-2010/112010 Meta Stack Overflow/posts.xml\")\n",
    "root = tree.getroot()\n",
    "data_chunks = chunckify(root, 50)\n",
    "mapped = list(map(mapper, data_chunks))\n",
    "mapped = list(reduce(fucionar_listas, mapped))\n"
   ]
  },
  {
   "cell_type": "code",
   "execution_count": null,
   "metadata": {},
   "outputs": [],
   "source": [
    "#Exportación de los datos obtenidos, Cantidad de respuestas de un post y puntaje\n",
    "with open((f'{HOME_DIR}/OT301-python/bigdata/outputs/GD_r2_CantidadRespuestas_Puntaje.csv'), 'w') as f:\n",
    "        f.write(str(mapped))\n",
    "        f.close()"
   ]
  },
  {
   "cell_type": "code",
   "execution_count": null,
   "metadata": {},
   "outputs": [],
   "source": [
    "#Separación de valores para poder graficar\n",
    "cantidad_respuestas = list(map(lambda x: x[0], mapped))\n",
    "puntaje = list(map(lambda y: y[1], mapped))\n",
    "cantidad_respuestas = [int(x) for x in cantidad_respuestas]\n",
    "puntaje = [int(x) for x in puntaje]"
   ]
  },
  {
   "cell_type": "code",
   "execution_count": 331,
   "metadata": {},
   "outputs": [
    {
     "data": {
      "text/plain": [
       "Text(0, 0.5, 'Puntaje')"
      ]
     },
     "execution_count": 331,
     "metadata": {},
     "output_type": "execute_result"
    },
    {
     "data": {
      "image/png": "[encoded data removed]",
      "text/plain": [
       "<Figure size 640x480 with 1 Axes>"
      ]
     },
     "metadata": {},
     "output_type": "display_data"
    }
   ],
   "source": [
    "#Grafico\n",
    "fig, ax = plt.subplots()  \n",
    "mapeo_colores = ax.scatter(cantidad_respuestas, puntaje,)\n",
    "plt.title('Relacion entre cantidad de respuestas de un post y su puntaje')\n",
    "plt.xlabel('Cantidad de respuestas')\n",
    "plt.ylabel('Puntaje')"
   ]
  },
  {
   "cell_type": "markdown",
   "metadata": {},
   "source": [
    "### Top 10 tipo de post sin respuestas aceptadas"
   ]
  },
  {
   "cell_type": "code",
   "execution_count": 290,
   "metadata": {},
   "outputs": [],
   "source": [
    "def filtrado(data):\n",
    "    try:\n",
    "        if data.attrib['PostTypeId'] == '1':\n",
    "            if 'AcceptedAnswerId' in data.attrib:\n",
    "                return\n",
    "            else:\n",
    "                numero = data.attrib['AnswerCount']\n",
    "                titulo = data.attrib['Title']\n",
    "                return numero, titulo\n",
    "        else:\n",
    "            return\n",
    "    except:\n",
    "        return\n",
    "            "
   ]
  },
  {
   "cell_type": "code",
   "execution_count": 284,
   "metadata": {},
   "outputs": [],
   "source": [
    "def mapper_pregunta(data):\n",
    "    filtrados = list(map(filtrado, data))\n",
    "    filtrados = list(filter(None, filtrados))\n",
    "    return filtrados"
   ]
  },
  {
   "cell_type": "code",
   "execution_count": 291,
   "metadata": {},
   "outputs": [],
   "source": [
    "HOME_DIR = Path.home()\n",
    "\n",
    "tree = ET.parse(fr\"{HOME_DIR}/OT301-python/bigdata/datasets/Stack Overflow 11-2010/112010 Meta Stack Overflow/posts.xml\")\n",
    "root = tree.getroot()\n",
    "data_chunks = chunckify(root, 50)\n",
    "mapped_pregunta = list(map(mapper_pregunta, data_chunks))\n",
    "mapped_pregunta = reduce(fucionar_listas, mapped_pregunta)"
   ]
  },
  {
   "cell_type": "code",
   "execution_count": null,
   "metadata": {},
   "outputs": [],
   "source": [
    "preguntas = sorted(mapped_pregunta, reverse=True)\n",
    "top10_pregunta = preguntas[0:10]\n",
    "#Exportar resultados, ordenados de mayor cantidad de respuestas a menor\n",
    "with open((f'{HOME_DIR}/OT301-python/bigdata/outputs/GD_r3_RespuestasSinAceptada.csv'), 'w') as f:\n",
    "        f.write(str(top10_pregunta))                   \n",
    "        f.close()"
   ]
  },
  {
   "cell_type": "code",
   "execution_count": 297,
   "metadata": {},
   "outputs": [
    {
     "name": "stdout",
     "output_type": "stream",
     "text": [
      "Top10 de pregunta con mayor cantidad de respuesta sin respuesta aceptada:\n",
      "1º Titulo: Stack Overflow advertisement gallery - Cantidad de respuestas: 94\n",
      "2º Titulo: Open Source Advertising - Sidebar - 1H 2010 - Cantidad de respuestas: 90\n",
      "3º Titulo: Writing C++ expert on my CV - Cantidad de respuestas: 9\n",
      "4º Titulo: Why should I upvote a question? - Cantidad de respuestas: 9\n",
      "5º Titulo: Why doesn't the site use a rich text editor? - Cantidad de respuestas: 9\n",
      "6º Titulo: Why do we need the trilogy instead of just one site? - Cantidad de respuestas: 9\n",
      "7º Titulo: Where are the non-helpful people? - Cantidad de respuestas: 9\n",
      "8º Titulo: When should you edit tags? - Cantidad de respuestas: 9\n",
      "9º Titulo: What to do when a user deletes all their questions and answers? - Cantidad de respuestas: 9\n",
      "10º Titulo: What should we do about questions marked correct that have obviously incorrect answers? - Cantidad de respuestas: 9\n",
      "\n"
     ]
    }
   ],
   "source": [
    "top10_pregunta = preguntas[0:10]\n",
    "print(f'''Top10 de pregunta con mayor cantidad de respuesta sin respuesta aceptada:\n",
    "1º Titulo: {top10_pregunta[0][1]} - Cantidad de respuestas: {top10_pregunta[0][0]}\n",
    "2º Titulo: {top10_pregunta[1][1]} - Cantidad de respuestas: {top10_pregunta[1][0]}\n",
    "3º Titulo: {top10_pregunta[2][1]} - Cantidad de respuestas: {top10_pregunta[2][0]}\n",
    "4º Titulo: {top10_pregunta[3][1]} - Cantidad de respuestas: {top10_pregunta[3][0]}\n",
    "5º Titulo: {top10_pregunta[4][1]} - Cantidad de respuestas: {top10_pregunta[4][0]}\n",
    "6º Titulo: {top10_pregunta[5][1]} - Cantidad de respuestas: {top10_pregunta[5][0]}\n",
    "7º Titulo: {top10_pregunta[6][1]} - Cantidad de respuestas: {top10_pregunta[6][0]}\n",
    "8º Titulo: {top10_pregunta[7][1]} - Cantidad de respuestas: {top10_pregunta[7][0]}\n",
    "9º Titulo: {top10_pregunta[8][1]} - Cantidad de respuestas: {top10_pregunta[8][0]}\n",
    "10º Titulo: {top10_pregunta[9][1]} - Cantidad de respuestas: {top10_pregunta[9][0]}\n",
    "''')"
   ]
  }
 ],
 "metadata": {
  "kernelspec": {
   "display_name": "Python 3.10.4 64-bit",
   "language": "python",
   "name": "python3"
  },
  "language_info": {
   "codemirror_mode": {
    "name": "ipython",
    "version": 3
   },
   "file_extension": ".py",
   "mimetype": "text/x-python",
   "name": "python",
   "nbconvert_exporter": "python",
   "pygments_lexer": "ipython3",
   "version": "3.10.4"
  },
  "orig_nbformat": 4,
  "vscode": {
   "interpreter": {
    "hash": "916dbcbb3f70747c44a77c7bcd40155683ae19c65e1c03b4aa3499c5328201f1"
   }
  }
 },
 "nbformat": 4,
 "nbformat_minor": 2
}
